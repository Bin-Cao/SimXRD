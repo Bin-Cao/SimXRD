{
 "cells": [
  {
   "cell_type": "code",
   "execution_count": 1,
   "id": "2b5ead16",
   "metadata": {},
   "outputs": [
    {
     "name": "stdout",
     "output_type": "stream",
     "text": [
      "num: 9 \n",
      "\n"
     ]
    }
   ],
   "source": [
    "import matplotlib.pyplot as plt\n",
    "from ase.db import connect\n",
    "databs = connect(\"./binxrd.db\")\n",
    "\n",
    "\n",
    "total_entries = databs.count()\n",
    "print('num:',total_entries,'\\n')\n",
    "\n",
    "\n",
    "\n",
    "atoms_list = []\n",
    "element_list = []\n",
    "latt_dis_list = []\n",
    "intensity_list = []\n",
    "spg_list = []\n",
    "crysystem_list = []\n",
    "for row in databs.select():\n",
    "    atoms = row.toatoms()\n",
    "    element = atoms.get_chemical_symbols()\n",
    "    latt_dis = eval(getattr(row, 'latt_dis'))\n",
    "    intensity = eval(getattr(row, 'intensity'))\n",
    "    spg = eval(getattr(row, 'tager'))[0]\n",
    "    crysystem = eval(getattr(row, 'tager'))[1]\n",
    "\n",
    "    atoms_list.append(atoms)\n",
    "    element_list.append(element)\n",
    "    latt_dis_list.append(latt_dis)\n",
    "    intensity_list.append(intensity)\n",
    "    spg_list.append(spg)\n",
    "    crysystem_list.append(crysystem)\n"
   ]
  },
  {
   "cell_type": "code",
   "execution_count": 11,
   "id": "2e399a1b",
   "metadata": {},
   "outputs": [
    {
     "name": "stderr",
     "output_type": "stream",
     "text": [
      "Writing to Database: 100%|███████████████████████| 9/9 [00:00<00:00, 157.26it/s]\n"
     ]
    },
    {
     "data": {
      "text/plain": [
       "True"
      ]
     },
     "execution_count": 11,
     "metadata": {},
     "output_type": "execute_result"
    }
   ],
   "source": [
    "from ase.db import connect\n",
    "from tqdm import tqdm\n",
    "\n",
    "def write_to_database(source_db, target_db):\n",
    "    source_conn = connect(source_db)\n",
    "    target_conn = connect(target_db)\n",
    "\n",
    "    total_entries = source_conn.count()\n",
    "\n",
    "    for entry_id in tqdm(range(1, 1000 + 1), desc='Writing to Database'):\n",
    "        entry = source_conn.get(id=entry_id)\n",
    "        target_conn.write(\n",
    "            atoms=entry.toatoms(),\n",
    "            latt_dis=entry.latt_dis,\n",
    "            intensity=entry.intensity,\n",
    "            tager=entry.tager,\n",
    "            chem_form=entry.chem_form,\n",
    "            simulation_param=entry.simulation_param\n",
    "        )\n",
    "\n",
    "\n",
    "    return True\n",
    "\n",
    "source_db = \"../val_db/test_binxrd.db\"\n",
    "target_db = \"./val.db\"\n",
    "write_to_database(source_db, target_db)"
   ]
  },
  {
   "cell_type": "code",
   "execution_count": 1,
   "id": "26503515",
   "metadata": {},
   "outputs": [
    {
     "name": "stdout",
     "output_type": "stream",
     "text": [
      "num: 9 \n",
      "\n",
      "Data saved successfully as test.tfrecord\n"
     ]
    }
   ],
   "source": [
    "import json\n",
    "from ase.db import connect\n",
    "\n",
    "# Connect to the database\n",
    "databs = connect(\"./binxrd.db\")\n",
    "\n",
    "# Count the total number of entries\n",
    "total_entries = databs.count()\n",
    "\n",
    "# Initialize lists to store the extracted data\n",
    "atoms_list = []\n",
    "element_list = []\n",
    "latt_dis_list = []\n",
    "intensity_list = []\n",
    "spg_list = []\n",
    "crysystem_list = []\n",
    "\n",
    "# Extract the data from the database\n",
    "for row in databs.select():\n",
    "    atoms = row.toatoms()\n",
    "    element = atoms.get_chemical_symbols()\n",
    "    latt_dis = eval(getattr(row, 'latt_dis'))\n",
    "    intensity = eval(getattr(row, 'intensity'))\n",
    "    tager = eval(getattr(row, 'tager'))\n",
    "    spg = tager[0]\n",
    "    crysystem = tager[1]\n",
    "\n",
    "    atoms_list.append(atoms)\n",
    "    element_list.append(element)\n",
    "    latt_dis_list.append(latt_dis)\n",
    "    intensity_list.append(intensity)\n",
    "    spg_list.append(spg)\n",
    "    crysystem_list.append(crysystem)\n",
    "\n",
    "# Structure the data into a dictionary\n",
    "data = {\n",
    "    'element_list': element_list,\n",
    "    'latt_dis_list': latt_dis_list,\n",
    "    'intensity_list': intensity_list,\n",
    "    'spg_list': spg_list,\n",
    "    'crysystem_list': crysystem_list\n",
    "}\n",
    "\n",
    "# Save the data as a tfrecord file, named test.tfrecord\n",
    "import tensorflow as tf\n",
    "\n",
    "# Define a function to serialize the data\n",
    "def serialize_example(element_list, latt_dis_list, intensity_list, spg_list, crysystem_list):\n",
    "    feature = {\n",
    "        'element_list': tf.train.Feature(bytes_list=tf.train.BytesList(value=[tf.io.serialize_tensor(element_list).numpy()])),\n",
    "        'latt_dis_list': tf.train.Feature(bytes_list=tf.train.BytesList(value=[tf.io.serialize_tensor(latt_dis_list).numpy()])),\n",
    "        'intensity_list': tf.train.Feature(bytes_list=tf.train.BytesList(value=[tf.io.serialize_tensor(intensity_list).numpy()])),\n",
    "        'spg_list': tf.train.Feature(bytes_list=tf.train.BytesList(value=[tf.io.serialize_tensor(spg_list).numpy()])),\n",
    "        'crysystem_list': tf.train.Feature(bytes_list=tf.train.BytesList(value=[tf.io.serialize_tensor(crysystem_list).numpy()]))\n",
    "    }\n",
    "    example_proto = tf.train.Example(features=tf.train.Features(feature=feature))\n",
    "    return example_proto.SerializeToString()\n",
    "\n",
    "# Serialize the data and write to tfrecord file\n",
    "with tf.io.TFRecordWriter('test.tfrecord') as writer:\n",
    "    for i in range(len(element_list)):\n",
    "        example = serialize_example(element_list[i], latt_dis_list[i], intensity_list[i], spg_list[i], crysystem_list[i])\n",
    "        writer.write(example)\n"
   ]
  },
  {
   "cell_type": "code",
   "execution_count": 6,
   "id": "03307c5a",
   "metadata": {},
   "outputs": [
    {
     "ename": "TypeError",
     "evalue": "The dataset length is unknown.",
     "output_type": "error",
     "traceback": [
      "\u001b[0;31m---------------------------------------------------------------------------\u001b[0m",
      "\u001b[0;31mTypeError\u001b[0m                                 Traceback (most recent call last)",
      "Cell \u001b[0;32mIn[6], line 28\u001b[0m\n\u001b[1;32m     24\u001b[0m parsed_dataset \u001b[38;5;241m=\u001b[39m dataset\u001b[38;5;241m.\u001b[39mmap(parse_example)\n\u001b[1;32m     26\u001b[0m \u001b[38;5;28;01mfrom\u001b[39;00m \u001b[38;5;21;01mtorch\u001b[39;00m\u001b[38;5;21;01m.\u001b[39;00m\u001b[38;5;21;01mutils\u001b[39;00m\u001b[38;5;21;01m.\u001b[39;00m\u001b[38;5;21;01mdata\u001b[39;00m \u001b[38;5;28;01mimport\u001b[39;00m DataLoader\n\u001b[0;32m---> 28\u001b[0m train_loader \u001b[38;5;241m=\u001b[39m \u001b[43mDataLoader\u001b[49m\u001b[43m(\u001b[49m\u001b[43mparsed_dataset\u001b[49m\u001b[43m,\u001b[49m\u001b[43m \u001b[49m\u001b[43mbatch_size\u001b[49m\u001b[38;5;241;43m=\u001b[39;49m\u001b[38;5;241;43m2\u001b[39;49m\u001b[43m,\u001b[49m\u001b[43m \u001b[49m\u001b[43mshuffle\u001b[49m\u001b[38;5;241;43m=\u001b[39;49m\u001b[38;5;28;43;01mTrue\u001b[39;49;00m\u001b[43m,\u001b[49m\u001b[43m)\u001b[49m\n",
      "File \u001b[0;32m~/miniconda3/lib/python3.9/site-packages/torch/utils/data/dataloader.py:349\u001b[0m, in \u001b[0;36mDataLoader.__init__\u001b[0;34m(self, dataset, batch_size, shuffle, sampler, batch_sampler, num_workers, collate_fn, pin_memory, drop_last, timeout, worker_init_fn, multiprocessing_context, generator, prefetch_factor, persistent_workers, pin_memory_device)\u001b[0m\n\u001b[1;32m    347\u001b[0m \u001b[38;5;28;01melse\u001b[39;00m:  \u001b[38;5;66;03m# map-style\u001b[39;00m\n\u001b[1;32m    348\u001b[0m     \u001b[38;5;28;01mif\u001b[39;00m shuffle:\n\u001b[0;32m--> 349\u001b[0m         sampler \u001b[38;5;241m=\u001b[39m \u001b[43mRandomSampler\u001b[49m\u001b[43m(\u001b[49m\u001b[43mdataset\u001b[49m\u001b[43m,\u001b[49m\u001b[43m \u001b[49m\u001b[43mgenerator\u001b[49m\u001b[38;5;241;43m=\u001b[39;49m\u001b[43mgenerator\u001b[49m\u001b[43m)\u001b[49m  \u001b[38;5;66;03m# type: ignore[arg-type]\u001b[39;00m\n\u001b[1;32m    350\u001b[0m     \u001b[38;5;28;01melse\u001b[39;00m:\n\u001b[1;32m    351\u001b[0m         sampler \u001b[38;5;241m=\u001b[39m SequentialSampler(dataset)  \u001b[38;5;66;03m# type: ignore[arg-type]\u001b[39;00m\n",
      "File \u001b[0;32m~/miniconda3/lib/python3.9/site-packages/torch/utils/data/sampler.py:139\u001b[0m, in \u001b[0;36mRandomSampler.__init__\u001b[0;34m(self, data_source, replacement, num_samples, generator)\u001b[0m\n\u001b[1;32m    136\u001b[0m \u001b[38;5;28;01mif\u001b[39;00m \u001b[38;5;129;01mnot\u001b[39;00m \u001b[38;5;28misinstance\u001b[39m(\u001b[38;5;28mself\u001b[39m\u001b[38;5;241m.\u001b[39mreplacement, \u001b[38;5;28mbool\u001b[39m):\n\u001b[1;32m    137\u001b[0m     \u001b[38;5;28;01mraise\u001b[39;00m \u001b[38;5;167;01mTypeError\u001b[39;00m(\u001b[38;5;124mf\u001b[39m\u001b[38;5;124m\"\u001b[39m\u001b[38;5;124mreplacement should be a boolean value, but got replacement=\u001b[39m\u001b[38;5;132;01m{\u001b[39;00m\u001b[38;5;28mself\u001b[39m\u001b[38;5;241m.\u001b[39mreplacement\u001b[38;5;132;01m}\u001b[39;00m\u001b[38;5;124m\"\u001b[39m)\n\u001b[0;32m--> 139\u001b[0m \u001b[38;5;28;01mif\u001b[39;00m \u001b[38;5;129;01mnot\u001b[39;00m \u001b[38;5;28misinstance\u001b[39m(\u001b[38;5;28;43mself\u001b[39;49m\u001b[38;5;241;43m.\u001b[39;49m\u001b[43mnum_samples\u001b[49m, \u001b[38;5;28mint\u001b[39m) \u001b[38;5;129;01mor\u001b[39;00m \u001b[38;5;28mself\u001b[39m\u001b[38;5;241m.\u001b[39mnum_samples \u001b[38;5;241m<\u001b[39m\u001b[38;5;241m=\u001b[39m \u001b[38;5;241m0\u001b[39m:\n\u001b[1;32m    140\u001b[0m     \u001b[38;5;28;01mraise\u001b[39;00m \u001b[38;5;167;01mValueError\u001b[39;00m(\u001b[38;5;124mf\u001b[39m\u001b[38;5;124m\"\u001b[39m\u001b[38;5;124mnum_samples should be a positive integer value, but got num_samples=\u001b[39m\u001b[38;5;132;01m{\u001b[39;00m\u001b[38;5;28mself\u001b[39m\u001b[38;5;241m.\u001b[39mnum_samples\u001b[38;5;132;01m}\u001b[39;00m\u001b[38;5;124m\"\u001b[39m)\n",
      "File \u001b[0;32m~/miniconda3/lib/python3.9/site-packages/torch/utils/data/sampler.py:146\u001b[0m, in \u001b[0;36mRandomSampler.num_samples\u001b[0;34m(self)\u001b[0m\n\u001b[1;32m    142\u001b[0m \u001b[38;5;129m@property\u001b[39m\n\u001b[1;32m    143\u001b[0m \u001b[38;5;28;01mdef\u001b[39;00m \u001b[38;5;21mnum_samples\u001b[39m(\u001b[38;5;28mself\u001b[39m) \u001b[38;5;241m-\u001b[39m\u001b[38;5;241m>\u001b[39m \u001b[38;5;28mint\u001b[39m:\n\u001b[1;32m    144\u001b[0m     \u001b[38;5;66;03m# dataset size might change at runtime\u001b[39;00m\n\u001b[1;32m    145\u001b[0m     \u001b[38;5;28;01mif\u001b[39;00m \u001b[38;5;28mself\u001b[39m\u001b[38;5;241m.\u001b[39m_num_samples \u001b[38;5;129;01mis\u001b[39;00m \u001b[38;5;28;01mNone\u001b[39;00m:\n\u001b[0;32m--> 146\u001b[0m         \u001b[38;5;28;01mreturn\u001b[39;00m \u001b[38;5;28;43mlen\u001b[39;49m\u001b[43m(\u001b[49m\u001b[38;5;28;43mself\u001b[39;49m\u001b[38;5;241;43m.\u001b[39;49m\u001b[43mdata_source\u001b[49m\u001b[43m)\u001b[49m\n\u001b[1;32m    147\u001b[0m     \u001b[38;5;28;01mreturn\u001b[39;00m \u001b[38;5;28mself\u001b[39m\u001b[38;5;241m.\u001b[39m_num_samples\n",
      "File \u001b[0;32m~/miniconda3/lib/python3.9/site-packages/tensorflow/python/data/ops/dataset_ops.py:538\u001b[0m, in \u001b[0;36mDatasetV2.__len__\u001b[0;34m(self)\u001b[0m\n\u001b[1;32m    536\u001b[0m   \u001b[38;5;28;01mraise\u001b[39;00m \u001b[38;5;167;01mTypeError\u001b[39;00m(\u001b[38;5;124m\"\u001b[39m\u001b[38;5;124mThe dataset is infinite.\u001b[39m\u001b[38;5;124m\"\u001b[39m)\n\u001b[1;32m    537\u001b[0m \u001b[38;5;28;01mif\u001b[39;00m length\u001b[38;5;241m.\u001b[39mnumpy() \u001b[38;5;241m==\u001b[39m UNKNOWN:\n\u001b[0;32m--> 538\u001b[0m   \u001b[38;5;28;01mraise\u001b[39;00m \u001b[38;5;167;01mTypeError\u001b[39;00m(\u001b[38;5;124m\"\u001b[39m\u001b[38;5;124mThe dataset length is unknown.\u001b[39m\u001b[38;5;124m\"\u001b[39m)\n\u001b[1;32m    539\u001b[0m \u001b[38;5;28;01mreturn\u001b[39;00m length\n",
      "\u001b[0;31mTypeError\u001b[0m: The dataset length is unknown."
     ]
    }
   ],
   "source": [
    "import tensorflow as tf\n",
    "\n",
    "# Define a function to parse a single example\n",
    "def parse_example(example_proto):\n",
    "    feature_description = {\n",
    "        'element_list': tf.io.FixedLenFeature([], tf.string),\n",
    "        'latt_dis_list': tf.io.FixedLenFeature([], tf.string),\n",
    "        'intensity_list': tf.io.FixedLenFeature([], tf.string),\n",
    "        'spg_list': tf.io.FixedLenFeature([], tf.string),\n",
    "        'crysystem_list': tf.io.FixedLenFeature([], tf.string),\n",
    "    }\n",
    "    example = tf.io.parse_single_example(example_proto, feature_description)\n",
    "    element_list = tf.io.parse_tensor(example['element_list'], out_type=tf.string)\n",
    "    latt_dis_list = tf.io.parse_tensor(example['latt_dis_list'], out_type=tf.float32)\n",
    "    intensity_list = tf.io.parse_tensor(example['intensity_list'], out_type=tf.float32)\n",
    "    spg_list = tf.io.parse_tensor(example['spg_list'], out_type=tf.int32)\n",
    "    crysystem_list = tf.io.parse_tensor(example['crysystem_list'], out_type=tf.int32)\n",
    "    return element_list, latt_dis_list, intensity_list, spg_list, crysystem_list\n",
    "\n",
    "# Load the tfrecord file\n",
    "dataset = tf.data.TFRecordDataset(['test.tfrecord'])\n",
    "\n",
    "# Parse the dataset\n",
    "parsed_dataset = dataset.map(parse_example)\n",
    "\n",
    "# Iterate through the dataset\n",
    "for element_list, latt_dis_list, intensity_list, spg_list, crysystem_list in parsed_dataset:\n",
    "    # Process each example\n",
    "    print(\"Element List:\", element_list.numpy())\n",
    "    print(\"Lattice Dis List:\", latt_dis_list.numpy())\n",
    "    print(\"Intensity List:\", intensity_list.numpy())\n",
    "    print(\"Space Group List:\", spg_list.numpy())\n",
    "    print(\"Crystal System List:\", crysystem_list.numpy())"
   ]
  },
  {
   "cell_type": "code",
   "execution_count": null,
   "id": "ac6669e6",
   "metadata": {},
   "outputs": [],
   "source": [
    "\n"
   ]
  },
  {
   "cell_type": "code",
   "execution_count": 5,
   "id": "bc39673f",
   "metadata": {},
   "outputs": [
    {
     "ename": "TypeError",
     "evalue": "The dataset length is unknown.",
     "output_type": "error",
     "traceback": [
      "\u001b[0;31m---------------------------------------------------------------------------\u001b[0m",
      "\u001b[0;31mTypeError\u001b[0m                                 Traceback (most recent call last)",
      "Cell \u001b[0;32mIn[5], line 2\u001b[0m\n\u001b[1;32m      1\u001b[0m \u001b[38;5;28;01mfrom\u001b[39;00m \u001b[38;5;21;01mtorch\u001b[39;00m\u001b[38;5;21;01m.\u001b[39;00m\u001b[38;5;21;01mutils\u001b[39;00m\u001b[38;5;21;01m.\u001b[39;00m\u001b[38;5;21;01mdata\u001b[39;00m \u001b[38;5;28;01mimport\u001b[39;00m DataLoader\n\u001b[0;32m----> 2\u001b[0m train_loader \u001b[38;5;241m=\u001b[39m \u001b[43mDataLoader\u001b[49m\u001b[43m(\u001b[49m\u001b[43mparsed_dataset\u001b[49m\u001b[43m,\u001b[49m\u001b[43m \u001b[49m\u001b[43mbatch_size\u001b[49m\u001b[38;5;241;43m=\u001b[39;49m\u001b[38;5;241;43m2\u001b[39;49m\u001b[43m,\u001b[49m\u001b[43m \u001b[49m\u001b[43mshuffle\u001b[49m\u001b[38;5;241;43m=\u001b[39;49m\u001b[38;5;28;43;01mTrue\u001b[39;49;00m\u001b[43m,\u001b[49m\u001b[43m)\u001b[49m\n",
      "File \u001b[0;32m~/miniconda3/lib/python3.9/site-packages/torch/utils/data/dataloader.py:349\u001b[0m, in \u001b[0;36mDataLoader.__init__\u001b[0;34m(self, dataset, batch_size, shuffle, sampler, batch_sampler, num_workers, collate_fn, pin_memory, drop_last, timeout, worker_init_fn, multiprocessing_context, generator, prefetch_factor, persistent_workers, pin_memory_device)\u001b[0m\n\u001b[1;32m    347\u001b[0m \u001b[38;5;28;01melse\u001b[39;00m:  \u001b[38;5;66;03m# map-style\u001b[39;00m\n\u001b[1;32m    348\u001b[0m     \u001b[38;5;28;01mif\u001b[39;00m shuffle:\n\u001b[0;32m--> 349\u001b[0m         sampler \u001b[38;5;241m=\u001b[39m \u001b[43mRandomSampler\u001b[49m\u001b[43m(\u001b[49m\u001b[43mdataset\u001b[49m\u001b[43m,\u001b[49m\u001b[43m \u001b[49m\u001b[43mgenerator\u001b[49m\u001b[38;5;241;43m=\u001b[39;49m\u001b[43mgenerator\u001b[49m\u001b[43m)\u001b[49m  \u001b[38;5;66;03m# type: ignore[arg-type]\u001b[39;00m\n\u001b[1;32m    350\u001b[0m     \u001b[38;5;28;01melse\u001b[39;00m:\n\u001b[1;32m    351\u001b[0m         sampler \u001b[38;5;241m=\u001b[39m SequentialSampler(dataset)  \u001b[38;5;66;03m# type: ignore[arg-type]\u001b[39;00m\n",
      "File \u001b[0;32m~/miniconda3/lib/python3.9/site-packages/torch/utils/data/sampler.py:139\u001b[0m, in \u001b[0;36mRandomSampler.__init__\u001b[0;34m(self, data_source, replacement, num_samples, generator)\u001b[0m\n\u001b[1;32m    136\u001b[0m \u001b[38;5;28;01mif\u001b[39;00m \u001b[38;5;129;01mnot\u001b[39;00m \u001b[38;5;28misinstance\u001b[39m(\u001b[38;5;28mself\u001b[39m\u001b[38;5;241m.\u001b[39mreplacement, \u001b[38;5;28mbool\u001b[39m):\n\u001b[1;32m    137\u001b[0m     \u001b[38;5;28;01mraise\u001b[39;00m \u001b[38;5;167;01mTypeError\u001b[39;00m(\u001b[38;5;124mf\u001b[39m\u001b[38;5;124m\"\u001b[39m\u001b[38;5;124mreplacement should be a boolean value, but got replacement=\u001b[39m\u001b[38;5;132;01m{\u001b[39;00m\u001b[38;5;28mself\u001b[39m\u001b[38;5;241m.\u001b[39mreplacement\u001b[38;5;132;01m}\u001b[39;00m\u001b[38;5;124m\"\u001b[39m)\n\u001b[0;32m--> 139\u001b[0m \u001b[38;5;28;01mif\u001b[39;00m \u001b[38;5;129;01mnot\u001b[39;00m \u001b[38;5;28misinstance\u001b[39m(\u001b[38;5;28;43mself\u001b[39;49m\u001b[38;5;241;43m.\u001b[39;49m\u001b[43mnum_samples\u001b[49m, \u001b[38;5;28mint\u001b[39m) \u001b[38;5;129;01mor\u001b[39;00m \u001b[38;5;28mself\u001b[39m\u001b[38;5;241m.\u001b[39mnum_samples \u001b[38;5;241m<\u001b[39m\u001b[38;5;241m=\u001b[39m \u001b[38;5;241m0\u001b[39m:\n\u001b[1;32m    140\u001b[0m     \u001b[38;5;28;01mraise\u001b[39;00m \u001b[38;5;167;01mValueError\u001b[39;00m(\u001b[38;5;124mf\u001b[39m\u001b[38;5;124m\"\u001b[39m\u001b[38;5;124mnum_samples should be a positive integer value, but got num_samples=\u001b[39m\u001b[38;5;132;01m{\u001b[39;00m\u001b[38;5;28mself\u001b[39m\u001b[38;5;241m.\u001b[39mnum_samples\u001b[38;5;132;01m}\u001b[39;00m\u001b[38;5;124m\"\u001b[39m)\n",
      "File \u001b[0;32m~/miniconda3/lib/python3.9/site-packages/torch/utils/data/sampler.py:146\u001b[0m, in \u001b[0;36mRandomSampler.num_samples\u001b[0;34m(self)\u001b[0m\n\u001b[1;32m    142\u001b[0m \u001b[38;5;129m@property\u001b[39m\n\u001b[1;32m    143\u001b[0m \u001b[38;5;28;01mdef\u001b[39;00m \u001b[38;5;21mnum_samples\u001b[39m(\u001b[38;5;28mself\u001b[39m) \u001b[38;5;241m-\u001b[39m\u001b[38;5;241m>\u001b[39m \u001b[38;5;28mint\u001b[39m:\n\u001b[1;32m    144\u001b[0m     \u001b[38;5;66;03m# dataset size might change at runtime\u001b[39;00m\n\u001b[1;32m    145\u001b[0m     \u001b[38;5;28;01mif\u001b[39;00m \u001b[38;5;28mself\u001b[39m\u001b[38;5;241m.\u001b[39m_num_samples \u001b[38;5;129;01mis\u001b[39;00m \u001b[38;5;28;01mNone\u001b[39;00m:\n\u001b[0;32m--> 146\u001b[0m         \u001b[38;5;28;01mreturn\u001b[39;00m \u001b[38;5;28;43mlen\u001b[39;49m\u001b[43m(\u001b[49m\u001b[38;5;28;43mself\u001b[39;49m\u001b[38;5;241;43m.\u001b[39;49m\u001b[43mdata_source\u001b[49m\u001b[43m)\u001b[49m\n\u001b[1;32m    147\u001b[0m     \u001b[38;5;28;01mreturn\u001b[39;00m \u001b[38;5;28mself\u001b[39m\u001b[38;5;241m.\u001b[39m_num_samples\n",
      "File \u001b[0;32m~/miniconda3/lib/python3.9/site-packages/tensorflow/python/data/ops/dataset_ops.py:538\u001b[0m, in \u001b[0;36mDatasetV2.__len__\u001b[0;34m(self)\u001b[0m\n\u001b[1;32m    536\u001b[0m   \u001b[38;5;28;01mraise\u001b[39;00m \u001b[38;5;167;01mTypeError\u001b[39;00m(\u001b[38;5;124m\"\u001b[39m\u001b[38;5;124mThe dataset is infinite.\u001b[39m\u001b[38;5;124m\"\u001b[39m)\n\u001b[1;32m    537\u001b[0m \u001b[38;5;28;01mif\u001b[39;00m length\u001b[38;5;241m.\u001b[39mnumpy() \u001b[38;5;241m==\u001b[39m UNKNOWN:\n\u001b[0;32m--> 538\u001b[0m   \u001b[38;5;28;01mraise\u001b[39;00m \u001b[38;5;167;01mTypeError\u001b[39;00m(\u001b[38;5;124m\"\u001b[39m\u001b[38;5;124mThe dataset length is unknown.\u001b[39m\u001b[38;5;124m\"\u001b[39m)\n\u001b[1;32m    539\u001b[0m \u001b[38;5;28;01mreturn\u001b[39;00m length\n",
      "\u001b[0;31mTypeError\u001b[0m: The dataset length is unknown."
     ]
    }
   ],
   "source": [
    "from torch.utils.data import DataLoader\n",
    "\n",
    "train_loader = DataLoader(parsed_dataset, batch_size=2, shuffle=True,)"
   ]
  },
  {
   "cell_type": "code",
   "execution_count": 1,
   "id": "42ea01e4",
   "metadata": {},
   "outputs": [],
   "source": [
    "import tensorflow as tf\n",
    "import torch\n",
    "from torch.utils.data import Dataset, DataLoader\n",
    "\n",
    "# Define a function to parse a single example\n",
    "def parse_example(example_proto):\n",
    "    feature_description = {\n",
    "        'element_list': tf.io.FixedLenFeature([], tf.string),\n",
    "        'latt_dis_list': tf.io.FixedLenFeature([], tf.string),\n",
    "        'intensity_list': tf.io.FixedLenFeature([], tf.string),\n",
    "        'spg_list': tf.io.FixedLenFeature([], tf.string),\n",
    "        'crysystem_list': tf.io.FixedLenFeature([], tf.string),\n",
    "    }\n",
    "    example = tf.io.parse_single_example(example_proto, feature_description)\n",
    "    element_list = tf.io.parse_tensor(example['element_list'], out_type=tf.string)\n",
    "    # latt_dis_list = tf.io.parse_tensor(example['latt_dis_list'], out_type=tf.float32)\n",
    "    intensity_list = tf.io.parse_tensor(example['intensity_list'], out_type=tf.float32)\n",
    "    spg_list = tf.io.parse_tensor(example['spg_list'], out_type=tf.int32)\n",
    "    crysystem_list = tf.io.parse_tensor(example['crysystem_list'], out_type=tf.int32)\n",
    "    return intensity_list, spg_list, crysystem_list,element_list\n",
    "\n",
    "\n",
    "# Load the tfrecord file\n",
    "dataset = tf.data.TFRecordDataset(['test.tfrecord'])\n",
    "\n",
    "# Parse the dataset\n",
    "parsed_dataset = dataset.map(parse_example)\n",
    "\n",
    "class MyDataset(Dataset):\n",
    "    def __init__(self, tf_dataset):\n",
    "        self.tf_dataset = tf_dataset\n",
    "\n",
    "    def __len__(self):\n",
    "        return sum(1 for _ in self.tf_dataset)\n",
    "\n",
    "    def __getitem__(self, index):\n",
    "        for i, data in enumerate(self.tf_dataset):\n",
    "            if i == index:\n",
    "                intensity_list, spg_list, crysystem_list,element_list = data\n",
    "                return {\n",
    "                        # 'latt_dis': tensor_latt_dis,\n",
    "                        'intensity': torch.tensor(intensity_list, dtype=torch.int64),\n",
    "                        'spg': torch.tensor(spg_list, dtype=torch.int64),\n",
    "                        'crysystem': torch.tensor(crysystem_list, dtype=torch.int64),\n",
    "                        'element': torch.tensor(element_list, dtype=torch.int64)\n",
    "                    }\n",
    "                     \n",
    "\n",
    "# Create an instance of the custom dataset\n",
    "my_dataset = MyDataset(parsed_dataset)\n",
    "\n",
    "# Create a PyTorch DataLoader\n",
    "train_loader = DataLoader(my_dataset, batch_size=2, shuffle=True)"
   ]
  },
  {
   "cell_type": "code",
   "execution_count": 2,
   "id": "f41a617d",
   "metadata": {},
   "outputs": [
    {
     "data": {
      "text/plain": [
       "<torch.utils.data.dataloader.DataLoader at 0x301db0a00>"
      ]
     },
     "execution_count": 2,
     "metadata": {},
     "output_type": "execute_result"
    }
   ],
   "source": [
    "train_loader"
   ]
  },
  {
   "cell_type": "code",
   "execution_count": null,
   "id": "24c0cab4",
   "metadata": {},
   "outputs": [],
   "source": []
  }
 ],
 "metadata": {
  "kernelspec": {
   "display_name": "Python 3 (ipykernel)",
   "language": "python",
   "name": "python3"
  },
  "language_info": {
   "codemirror_mode": {
    "name": "ipython",
    "version": 3
   },
   "file_extension": ".py",
   "mimetype": "text/x-python",
   "name": "python",
   "nbconvert_exporter": "python",
   "pygments_lexer": "ipython3",
   "version": "3.9.12"
  }
 },
 "nbformat": 4,
 "nbformat_minor": 5
}
